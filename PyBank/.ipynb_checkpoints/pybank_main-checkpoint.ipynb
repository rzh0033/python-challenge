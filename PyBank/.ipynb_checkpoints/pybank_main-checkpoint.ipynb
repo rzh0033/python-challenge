{
 "cells": [
  {
   "cell_type": "code",
   "execution_count": 1,
   "id": "90e91615",
   "metadata": {},
   "outputs": [],
   "source": [
    "import os\n",
    "import csv\n",
    "import pandas as pd"
   ]
  },
  {
   "cell_type": "code",
   "execution_count": 2,
   "id": "881b239e",
   "metadata": {},
   "outputs": [],
   "source": [
    "# Variables\n",
    "months = []\n",
    "changes = []\n",
    "\n",
    "month_count = 0\n",
    "total_profit = 0\n",
    "beg_profit = 0\n",
    "profit_change = 0\n",
    "end_profit = 0"
   ]
  },
  {
   "cell_type": "code",
   "execution_count": 3,
   "id": "a35f22fd",
   "metadata": {},
   "outputs": [
    {
     "data": {
      "text/html": [
       "<div>\n",
       "<style scoped>\n",
       "    .dataframe tbody tr th:only-of-type {\n",
       "        vertical-align: middle;\n",
       "    }\n",
       "\n",
       "    .dataframe tbody tr th {\n",
       "        vertical-align: top;\n",
       "    }\n",
       "\n",
       "    .dataframe thead th {\n",
       "        text-align: right;\n",
       "    }\n",
       "</style>\n",
       "<table border=\"1\" class=\"dataframe\">\n",
       "  <thead>\n",
       "    <tr style=\"text-align: right;\">\n",
       "      <th></th>\n",
       "      <th>Date</th>\n",
       "      <th>Profit/Losses</th>\n",
       "    </tr>\n",
       "  </thead>\n",
       "  <tbody>\n",
       "    <tr>\n",
       "      <th>0</th>\n",
       "      <td>Jan-2010</td>\n",
       "      <td>867884</td>\n",
       "    </tr>\n",
       "    <tr>\n",
       "      <th>1</th>\n",
       "      <td>Feb-2010</td>\n",
       "      <td>984655</td>\n",
       "    </tr>\n",
       "    <tr>\n",
       "      <th>2</th>\n",
       "      <td>Mar-2010</td>\n",
       "      <td>322013</td>\n",
       "    </tr>\n",
       "    <tr>\n",
       "      <th>3</th>\n",
       "      <td>Apr-2010</td>\n",
       "      <td>-69417</td>\n",
       "    </tr>\n",
       "    <tr>\n",
       "      <th>4</th>\n",
       "      <td>May-2010</td>\n",
       "      <td>310503</td>\n",
       "    </tr>\n",
       "    <tr>\n",
       "      <th>...</th>\n",
       "      <td>...</td>\n",
       "      <td>...</td>\n",
       "    </tr>\n",
       "    <tr>\n",
       "      <th>81</th>\n",
       "      <td>Oct-2016</td>\n",
       "      <td>102685</td>\n",
       "    </tr>\n",
       "    <tr>\n",
       "      <th>82</th>\n",
       "      <td>Nov-2016</td>\n",
       "      <td>795914</td>\n",
       "    </tr>\n",
       "    <tr>\n",
       "      <th>83</th>\n",
       "      <td>Dec-2016</td>\n",
       "      <td>60988</td>\n",
       "    </tr>\n",
       "    <tr>\n",
       "      <th>84</th>\n",
       "      <td>Jan-2017</td>\n",
       "      <td>138230</td>\n",
       "    </tr>\n",
       "    <tr>\n",
       "      <th>85</th>\n",
       "      <td>Feb-2017</td>\n",
       "      <td>671099</td>\n",
       "    </tr>\n",
       "  </tbody>\n",
       "</table>\n",
       "<p>86 rows × 2 columns</p>\n",
       "</div>"
      ],
      "text/plain": [
       "        Date  Profit/Losses\n",
       "0   Jan-2010         867884\n",
       "1   Feb-2010         984655\n",
       "2   Mar-2010         322013\n",
       "3   Apr-2010         -69417\n",
       "4   May-2010         310503\n",
       "..       ...            ...\n",
       "81  Oct-2016         102685\n",
       "82  Nov-2016         795914\n",
       "83  Dec-2016          60988\n",
       "84  Jan-2017         138230\n",
       "85  Feb-2017         671099\n",
       "\n",
       "[86 rows x 2 columns]"
      ]
     },
     "execution_count": 3,
     "metadata": {},
     "output_type": "execute_result"
    }
   ],
   "source": [
    "# Read and create DF\n",
    "csv_path = r\"C:\\Users\\rzh00\\Documents\\gt-virt-atl-data-pt-09-2021-u-c-master\\02-Homework\\03-Python\\Instructions\\PyBank\\Resources\\budget_data.csv\"\n",
    "pd.read_csv(csv_path)"
   ]
  },
  {
   "cell_type": "code",
   "execution_count": 4,
   "id": "bad84443",
   "metadata": {},
   "outputs": [
    {
     "ename": "NameError",
     "evalue": "name 'final_profit' is not defined",
     "output_type": "error",
     "traceback": [
      "\u001b[1;31m---------------------------------------------------------------------------\u001b[0m",
      "\u001b[1;31mNameError\u001b[0m                                 Traceback (most recent call last)",
      "\u001b[1;32m<ipython-input-4-3648e14cf264>\u001b[0m in \u001b[0;36m<module>\u001b[1;34m\u001b[0m\n\u001b[0;32m     14\u001b[0m \u001b[1;33m\u001b[0m\u001b[0m\n\u001b[0;32m     15\u001b[0m         \u001b[1;32mif\u001b[0m\u001b[1;33m(\u001b[0m\u001b[0mmonth_count\u001b[0m \u001b[1;33m==\u001b[0m \u001b[1;36m1\u001b[0m\u001b[1;33m)\u001b[0m\u001b[1;33m:\u001b[0m\u001b[1;33m\u001b[0m\u001b[1;33m\u001b[0m\u001b[0m\n\u001b[1;32m---> 16\u001b[1;33m             \u001b[0mbeg_profit\u001b[0m \u001b[1;33m=\u001b[0m \u001b[0mfinal_profit\u001b[0m \u001b[1;31m#set value of prev month to current month\u001b[0m\u001b[1;33m\u001b[0m\u001b[1;33m\u001b[0m\u001b[0m\n\u001b[0m\u001b[0;32m     17\u001b[0m             \u001b[1;32mcontinue\u001b[0m\u001b[1;33m\u001b[0m\u001b[1;33m\u001b[0m\u001b[0m\n\u001b[0;32m     18\u001b[0m         \u001b[1;32melse\u001b[0m\u001b[1;33m:\u001b[0m\u001b[1;33m\u001b[0m\u001b[1;33m\u001b[0m\u001b[0m\n",
      "\u001b[1;31mNameError\u001b[0m: name 'final_profit' is not defined"
     ]
    }
   ],
   "source": [
    "# Open and Read\n",
    "with open(csv_path, newline = '') as csvfile:\n",
    "    csv_read = csv.reader(csvfile, delimiter = ',')\n",
    "    # Header\n",
    "    csv_header = next(csvfile)\n",
    "    \n",
    "    for row in csv_read:\n",
    "        \n",
    "        month_count = month_count + 1 # month counter\n",
    "        \n",
    "        # Totals for Profit/Loss\n",
    "        end_profit = int(row[1])\n",
    "        total_profit = total_profit + end_profit\n",
    "        \n",
    "        if(month_count == 1):\n",
    "            beg_profit = end_profit #set value of prev month to current month\n",
    "            continue\n",
    "        else:\n",
    "            profit_change = end_profit - beg_profit # find change in loss\n",
    "            \n",
    "            months.append(row[0]) # add each month to the list\n",
    "            \n",
    "            changes.append(profit_change)\n",
    "            beg_profit = end_profit\n",
    "            \n",
    "            \n",
    "    sum_profit_loss = sum(changes)\n",
    "    avg_profit_loss = round(sum_profit_loss/(month_count - 1),2)\n",
    "    \n",
    "    max_change = max(changes)\n",
    "    min_change = min(changes)\n",
    "    \n",
    "    max_month = changes.index(max_change)\n",
    "    min_month = changes.index(min_change)\n",
    "    \n",
    "    top_month = months[max_month]\n",
    "    bot_month = months[min_month]\n",
    "    \n"
   ]
  },
  {
   "cell_type": "code",
   "execution_count": null,
   "id": "1096c7b2",
   "metadata": {
    "scrolled": true
   },
   "outputs": [],
   "source": [
    "# Print Results\n",
    "print('Financial Analysis')\n",
    "print('-' * 20)\n",
    "print(f'Total Months: ' + str(month_count))\n",
    "print(f'Total: $' + str(total_profit))\n",
    "print(f'Average: $'+ str(avg_profit_loss))\n",
    "print(f'Greatest Increase in Profits: {top_month} (${max_change})')\n",
    "print(f'Greatest Decrease in Profits: {bot_month} (${min_change})')"
   ]
  },
  {
   "cell_type": "code",
   "execution_count": null,
   "id": "cbbecf71",
   "metadata": {},
   "outputs": [],
   "source": [
    "# Push to file\n",
    "result = os.path.join('output', 'result.txt')\n",
    "result = r'C:\\Users\\rzh00\\Documents\\gt-virt-atl-data-pt-09-2021-u-c-master\\02-Homework\\03-Python\\Instructions\\PyBank\\result.txt'\n",
    "\n",
    "with open(result, 'w') as txt:\n",
    "    txt.write('-' * 20)\n",
    "    txt.write(f'Total Months: {month_count}')\n",
    "    txt.write(f'Total: ${total_profit}')\n",
    "    txt.write(f'Average: ${avg_profit_loss}')\n",
    "    txt.write(f'Greatest Increase in Profits: {top_month} (${max_change})')\n",
    "    txt.write(f'Greatest Decrease in Profits: {bot_month} (${min_change})')\n",
    "    txt.write(\"\")\n",
    "    txt.close()"
   ]
  },
  {
   "cell_type": "code",
   "execution_count": null,
   "id": "8f5a9aa9",
   "metadata": {},
   "outputs": [],
   "source": []
  }
 ],
 "metadata": {
  "kernelspec": {
   "display_name": "Python 3",
   "language": "python",
   "name": "python3"
  },
  "language_info": {
   "codemirror_mode": {
    "name": "ipython",
    "version": 3
   },
   "file_extension": ".py",
   "mimetype": "text/x-python",
   "name": "python",
   "nbconvert_exporter": "python",
   "pygments_lexer": "ipython3",
   "version": "3.8.8"
  }
 },
 "nbformat": 4,
 "nbformat_minor": 5
}
