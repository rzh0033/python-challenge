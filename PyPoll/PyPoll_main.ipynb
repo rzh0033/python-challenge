{
 "cells": [
  {
   "cell_type": "code",
   "execution_count": 10,
   "id": "518b2754",
   "metadata": {},
   "outputs": [],
   "source": [
    "import os\n",
    "import csv\n",
    "import pandas as pd"
   ]
  },
  {
   "cell_type": "code",
   "execution_count": 11,
   "id": "5ea7b301",
   "metadata": {},
   "outputs": [],
   "source": [
    "#Set Path\\n\",\n",
    "pollCSV = os.path.join('Resources', 'election_data.CSV')\n",
    "pollCSV = r'C:\\\\Users\\\\rzh00\\\\Documents\\\\gt-virt-atl-data-pt-09-2021-u-c-master\\\\02-Homework\\\\03-Python\\\\Instructions\\\\PyPoll\\\\Resources\\\\election_data.csv'"
   ]
  },
  {
   "cell_type": "code",
   "execution_count": 25,
   "id": "202a50ad",
   "metadata": {},
   "outputs": [],
   "source": [
    "#Varibales\n",
    "candidate_list = []\n",
    "vote_list = []\n",
    "candidate_votes = []\n",
    "percentage_list = []\n",
    "vote_count = {}"
   ]
  },
  {
   "cell_type": "code",
   "execution_count": 27,
   "id": "0f7bb364",
   "metadata": {},
   "outputs": [],
   "source": [
    "#Open CSV\n",
    "with open(pollCSV) as csvfile:\n",
    "    csvreader = csv.reader(csvfile, delimiter = ',')\n",
    "    csvheader = next(csvreader)\n",
    "    for row in csvreader: \n",
    "        if row[2] not in vote_count.keys():\n",
    "            vote_count[row[2]] = 1\n",
    "        else:\n",
    "            vote_count[row[2]] += 1\n",
    "            \n",
    "candidate_list = list(vote_count.keys())\n",
    "candidate_votes = list(vote_count.values())\n",
    "total_votes = sum(list(vote_count.values()))\n",
    "max_votes = max(candidate_votes)\n",
    "winning_index = candidate_votes.index(max_votes)\n",
    "winner = candidate_list[winning_index]\n",
    "\n",
    "        "
   ]
  },
  {
   "cell_type": "code",
   "execution_count": 28,
   "id": "971f5473",
   "metadata": {},
   "outputs": [
    {
     "name": "stdout",
     "output_type": "stream",
     "text": [
      "\n",
      "    Election Results\n",
      "    ---------------------\n",
      "    Total Votes: 3521001\n",
      "    ---------------------\n",
      "    Khan : 63.0% (2218231)\n",
      "    Correy : 20.0% (704200)\n",
      "    Li : 14.0% (492940)\n",
      "    O'Tooley : 3.0% (105630)\n",
      "    ---------------------\n",
      "    Winner: Khan\n",
      "    ---------------------\n",
      "    \n"
     ]
    }
   ],
   "source": [
    "#Print Results\n",
    "#C:\\Users\\rzh00\\Documents\\gt-virt-atl-data-pt-09-2021-u-c-master\\02-Homework\\03-Python\\Instructions\\\n",
    "with open(r\"C:\\Users\\rzh00\\Documents\\gt-virt-atl-data-pt-09-2021-u-c-master\\02-Homework\\03-Python\\Instructions\\PyPoll\\result.txt\", \"w\") as election_result:\n",
    "    summary = f\"\"\"\n",
    "    Election Results\n",
    "    ---------------------\n",
    "    Total Votes: {total_votes}\n",
    "    ---------------------\n",
    "    {candidate_list[0]} : {round(candidate_votes[0]/total_votes*100,2)}% ({candidate_votes[0]})\n",
    "    {candidate_list[1]} : {round(candidate_votes[1]/total_votes*100,2)}% ({candidate_votes[1]})\n",
    "    {candidate_list[2]} : {round(candidate_votes[2]/total_votes*100,2)}% ({candidate_votes[2]})\n",
    "    {candidate_list[3]} : {round(candidate_votes[3]/total_votes*100,2)}% ({candidate_votes[3]})\n",
    "    ---------------------\n",
    "    Winner: {winner}\n",
    "    ---------------------\n",
    "    \"\"\"\n",
    "    print(summary)\n",
    "    election_result.write(summary)\n",
    "    "
   ]
  },
  {
   "cell_type": "code",
   "execution_count": null,
   "id": "da91dd3f",
   "metadata": {},
   "outputs": [],
   "source": []
  }
 ],
 "metadata": {
  "kernelspec": {
   "display_name": "Python 3",
   "language": "python",
   "name": "python3"
  },
  "language_info": {
   "codemirror_mode": {
    "name": "ipython",
    "version": 3
   },
   "file_extension": ".py",
   "mimetype": "text/x-python",
   "name": "python",
   "nbconvert_exporter": "python",
   "pygments_lexer": "ipython3",
   "version": "3.8.8"
  }
 },
 "nbformat": 4,
 "nbformat_minor": 5
}
