{
 "cells": [
  {
   "cell_type": "code",
   "execution_count": 10,
   "id": "e6a39f78",
   "metadata": {},
   "outputs": [],
   "source": [
    "import os\n",
    "import csv\n",
    "import pandas as pd"
   ]
  },
  {
   "cell_type": "code",
   "execution_count": 11,
   "id": "51ebfb29",
   "metadata": {},
   "outputs": [],
   "source": [
    "#Set Path\\n\",\n",
    "pollCSV = os.path.join('Resources', 'election_data.CSV')\n",
    "pollCSV = r'C:\\\\Users\\\\rzh00\\\\Documents\\\\gt-virt-atl-data-pt-09-2021-u-c-master\\\\02-Homework\\\\03-Python\\\\Instructions\\\\PyPoll\\\\Resources\\\\election_data.csv'"
   ]
  },
  {
   "cell_type": "code",
   "execution_count": 12,
   "id": "a2c3736c",
   "metadata": {},
   "outputs": [],
   "source": [
    "#Varibales\n",
    "candidate_list = []\n",
    "vote_list = []\n",
    "candidate_votes = []\n",
    "percentage_list = []"
   ]
  },
  {
   "cell_type": "code",
   "execution_count": 13,
   "id": "8e7d16d7",
   "metadata": {},
   "outputs": [
    {
     "ename": "NameError",
     "evalue": "name 'candidate' is not defined",
     "output_type": "error",
     "traceback": [
      "\u001b[1;31m---------------------------------------------------------------------------\u001b[0m",
      "\u001b[1;31mNameError\u001b[0m                                 Traceback (most recent call last)",
      "\u001b[1;32m<ipython-input-13-e395ba18646b>\u001b[0m in \u001b[0;36m<module>\u001b[1;34m\u001b[0m\n\u001b[0;32m     14\u001b[0m         \u001b[0mpercentage_list\u001b[0m\u001b[1;33m.\u001b[0m\u001b[0mappend\u001b[0m\u001b[1;33m(\u001b[0m\u001b[0mvote_list\u001b[0m\u001b[1;33m.\u001b[0m\u001b[0mcount\u001b[0m\u001b[1;33m(\u001b[0m\u001b[0mi\u001b[0m\u001b[1;33m)\u001b[0m\u001b[1;33m/\u001b[0m\u001b[0mtotal_votes\u001b[0m\u001b[1;33m*\u001b[0m\u001b[1;36m100\u001b[0m\u001b[1;33m)\u001b[0m\u001b[1;33m\u001b[0m\u001b[1;33m\u001b[0m\u001b[0m\n\u001b[0;32m     15\u001b[0m \u001b[1;33m\u001b[0m\u001b[0m\n\u001b[1;32m---> 16\u001b[1;33m \u001b[0mfinal_list\u001b[0m \u001b[1;33m=\u001b[0m \u001b[1;33m{\u001b[0m\u001b[0mcandidate\u001b[0m\u001b[1;33m[\u001b[0m\u001b[0mi\u001b[0m\u001b[1;33m]\u001b[0m\u001b[1;33m:\u001b[0m \u001b[0mcandidate_votes\u001b[0m\u001b[1;33m[\u001b[0m\u001b[0mi\u001b[0m\u001b[1;33m]\u001b[0m \u001b[1;32mfor\u001b[0m \u001b[0mi\u001b[0m \u001b[1;32min\u001b[0m \u001b[0mrange\u001b[0m\u001b[1;33m(\u001b[0m\u001b[0mlen\u001b[0m\u001b[1;33m(\u001b[0m\u001b[0mcandidate_list\u001b[0m\u001b[1;33m)\u001b[0m\u001b[1;33m)\u001b[0m\u001b[1;33m}\u001b[0m\u001b[1;33m\u001b[0m\u001b[1;33m\u001b[0m\u001b[0m\n\u001b[0m\u001b[0;32m     17\u001b[0m \u001b[1;33m\u001b[0m\u001b[0m\n\u001b[0;32m     18\u001b[0m \u001b[0mwinner\u001b[0m \u001b[1;33m=\u001b[0m \u001b[0mmax\u001b[0m\u001b[1;33m(\u001b[0m\u001b[0mfinal_list\u001b[0m\u001b[1;33m,\u001b[0m \u001b[0mkey\u001b[0m \u001b[1;33m=\u001b[0m \u001b[0mfinal_list\u001b[0m\u001b[1;33m.\u001b[0m\u001b[0mget\u001b[0m\u001b[1;33m)\u001b[0m\u001b[1;33m\u001b[0m\u001b[1;33m\u001b[0m\u001b[0m\n",
      "\u001b[1;32m<ipython-input-13-e395ba18646b>\u001b[0m in \u001b[0;36m<dictcomp>\u001b[1;34m(.0)\u001b[0m\n\u001b[0;32m     14\u001b[0m         \u001b[0mpercentage_list\u001b[0m\u001b[1;33m.\u001b[0m\u001b[0mappend\u001b[0m\u001b[1;33m(\u001b[0m\u001b[0mvote_list\u001b[0m\u001b[1;33m.\u001b[0m\u001b[0mcount\u001b[0m\u001b[1;33m(\u001b[0m\u001b[0mi\u001b[0m\u001b[1;33m)\u001b[0m\u001b[1;33m/\u001b[0m\u001b[0mtotal_votes\u001b[0m\u001b[1;33m*\u001b[0m\u001b[1;36m100\u001b[0m\u001b[1;33m)\u001b[0m\u001b[1;33m\u001b[0m\u001b[1;33m\u001b[0m\u001b[0m\n\u001b[0;32m     15\u001b[0m \u001b[1;33m\u001b[0m\u001b[0m\n\u001b[1;32m---> 16\u001b[1;33m \u001b[0mfinal_list\u001b[0m \u001b[1;33m=\u001b[0m \u001b[1;33m{\u001b[0m\u001b[0mcandidate\u001b[0m\u001b[1;33m[\u001b[0m\u001b[0mi\u001b[0m\u001b[1;33m]\u001b[0m\u001b[1;33m:\u001b[0m \u001b[0mcandidate_votes\u001b[0m\u001b[1;33m[\u001b[0m\u001b[0mi\u001b[0m\u001b[1;33m]\u001b[0m \u001b[1;32mfor\u001b[0m \u001b[0mi\u001b[0m \u001b[1;32min\u001b[0m \u001b[0mrange\u001b[0m\u001b[1;33m(\u001b[0m\u001b[0mlen\u001b[0m\u001b[1;33m(\u001b[0m\u001b[0mcandidate_list\u001b[0m\u001b[1;33m)\u001b[0m\u001b[1;33m)\u001b[0m\u001b[1;33m}\u001b[0m\u001b[1;33m\u001b[0m\u001b[1;33m\u001b[0m\u001b[0m\n\u001b[0m\u001b[0;32m     17\u001b[0m \u001b[1;33m\u001b[0m\u001b[0m\n\u001b[0;32m     18\u001b[0m \u001b[0mwinner\u001b[0m \u001b[1;33m=\u001b[0m \u001b[0mmax\u001b[0m\u001b[1;33m(\u001b[0m\u001b[0mfinal_list\u001b[0m\u001b[1;33m,\u001b[0m \u001b[0mkey\u001b[0m \u001b[1;33m=\u001b[0m \u001b[0mfinal_list\u001b[0m\u001b[1;33m.\u001b[0m\u001b[0mget\u001b[0m\u001b[1;33m)\u001b[0m\u001b[1;33m\u001b[0m\u001b[1;33m\u001b[0m\u001b[0m\n",
      "\u001b[1;31mNameError\u001b[0m: name 'candidate' is not defined"
     ]
    }
   ],
   "source": [
    "#Open CSV\n",
    "with open(pollCSV) as csvfile:\n",
    "    csvreader = csv.reader(csvfile, delimiter = ',')\n",
    "    csvheader = next(csvreader)\n",
    "    for row in csvreader: \n",
    "        vote_list.append(row[2])\n",
    "        total_votes = int(len(vote_list))\n",
    "        \n",
    "        if row[2] not in candidate_list:\n",
    "            candidate_list.append(row[2])\n",
    "    \n",
    "    for i in candidate_list:\n",
    "        candidate_votes.append(vote_list.count(i))\n",
    "        percentage_list.append(vote_list.count(i)/total_votes*100)\n",
    "\n",
    "final_list = {candidate[i]: candidate_votes[i] for i in range(len(candidate_list))}\n",
    "\n",
    "winner = max(final_list, key = final_list.get)\n",
    "\n",
    "        "
   ]
  },
  {
   "cell_type": "code",
   "execution_count": 17,
   "id": "e2b901b4",
   "metadata": {},
   "outputs": [
    {
     "name": "stdout",
     "output_type": "stream",
     "text": [
      "\n",
      "    Election Results\n",
      "    ---------------------\n",
      "    Total Votes: 3521001\n",
      "    ---------------------\n",
      "    Khan : 63.0% (2218231)\n",
      "    Correy : 63.0% (704200)\n",
      "    Li : 63.0% (492940)\n",
      "    O'Tooley : 63.0% (105630)\n",
      "    ---------------------\n",
      "    Winner: 2218231\n",
      "    ---------------------\n",
      "    \n"
     ]
    }
   ],
   "source": [
    "#Print Results\n",
    "#C:\\Users\\rzh00\\Documents\\gt-virt-atl-data-pt-09-2021-u-c-master\\02-Homework\\03-Python\\Instructions\\\n",
    "with open(r\"C:\\Users\\rzh00\\Documents\\gt-virt-atl-data-pt-09-2021-u-c-master\\02-Homework\\03-Python\\Instructions\\PyPoll\\result.txt\", \"w\") as election_result:\n",
    "    summary = f\"\"\"\n",
    "    Election Results\n",
    "    ---------------------\n",
    "    Total Votes: {total_votes}\n",
    "    ---------------------\n",
    "    {candidate_list[0]} : {round(candidate_votes[0]/total_votes*100,2)}% ({candidate_votes[0]})\n",
    "    {candidate_list[1]} : {round(candidate_votes[0]/total_votes*100,2)}% ({candidate_votes[1]})\n",
    "    {candidate_list[2]} : {round(candidate_votes[0]/total_votes*100,2)}% ({candidate_votes[2]})\n",
    "    {candidate_list[3]} : {round(candidate_votes[0]/total_votes*100,2)}% ({candidate_votes[3]})\n",
    "    ---------------------\n",
    "    Winner: {winner}\n",
    "    ---------------------\n",
    "    \"\"\"\n",
    "    print(summary)\n",
    "    election_result.write(summary)\n",
    "    "
   ]
  },
  {
   "cell_type": "code",
   "execution_count": null,
   "id": "3fc242b8",
   "metadata": {},
   "outputs": [],
   "source": []
  }
 ],
 "metadata": {
  "kernelspec": {
   "display_name": "Python 3",
   "language": "python",
   "name": "python3"
  },
  "language_info": {
   "codemirror_mode": {
    "name": "ipython",
    "version": 3
   },
   "file_extension": ".py",
   "mimetype": "text/x-python",
   "name": "python",
   "nbconvert_exporter": "python",
   "pygments_lexer": "ipython3",
   "version": "3.8.8"
  }
 },
 "nbformat": 4,
 "nbformat_minor": 5
}
